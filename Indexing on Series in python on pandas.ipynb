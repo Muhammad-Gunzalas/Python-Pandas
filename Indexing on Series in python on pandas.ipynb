{
 "cells": [
  {
   "cell_type": "code",
   "execution_count": 2,
   "id": "bef8daa9",
   "metadata": {},
   "outputs": [],
   "source": [
    "import pandas as pd"
   ]
  },
  {
   "cell_type": "code",
   "execution_count": 3,
   "id": "b74cda3d",
   "metadata": {},
   "outputs": [],
   "source": [
    "series_a=pd.Series([10,12,13,14,15])\n",
    "price_per_category=pd.Series({'product A': 1000, 'product B ': 2000, 'product C ':3000 })"
   ]
  },
  {
   "cell_type": "code",
   "execution_count": 4,
   "id": "824c69b3",
   "metadata": {},
   "outputs": [
    {
     "data": {
      "text/plain": [
       "0    10\n",
       "1    12\n",
       "2    13\n",
       "3    14\n",
       "4    15\n",
       "dtype: int64"
      ]
     },
     "execution_count": 4,
     "metadata": {},
     "output_type": "execute_result"
    }
   ],
   "source": [
    "series_a"
   ]
  },
  {
   "cell_type": "code",
   "execution_count": 5,
   "id": "e6d51b69",
   "metadata": {},
   "outputs": [
    {
     "data": {
      "text/plain": [
       "10"
      ]
     },
     "execution_count": 5,
     "metadata": {},
     "output_type": "execute_result"
    }
   ],
   "source": [
    "series_a[0]"
   ]
  },
  {
   "cell_type": "code",
   "execution_count": 6,
   "id": "90fcead7",
   "metadata": {},
   "outputs": [
    {
     "data": {
      "text/plain": [
       "product A     1000\n",
       "product B     2000\n",
       "product C     3000\n",
       "dtype: int64"
      ]
     },
     "execution_count": 6,
     "metadata": {},
     "output_type": "execute_result"
    }
   ],
   "source": [
    "price_per_category\n"
   ]
  },
  {
   "cell_type": "code",
   "execution_count": 7,
   "id": "545902ca",
   "metadata": {},
   "outputs": [
    {
     "data": {
      "text/plain": [
       "1000"
      ]
     },
     "execution_count": 7,
     "metadata": {},
     "output_type": "execute_result"
    }
   ],
   "source": [
    "price_per_category['product A']"
   ]
  },
  {
   "cell_type": "code",
   "execution_count": 8,
   "id": "606dae17",
   "metadata": {},
   "outputs": [
    {
     "data": {
      "text/plain": [
       "3000"
      ]
     },
     "execution_count": 8,
     "metadata": {},
     "output_type": "execute_result"
    }
   ],
   "source": [
    "price_per_category[2]"
   ]
  },
  {
   "cell_type": "code",
   "execution_count": 9,
   "id": "bf0fb72e",
   "metadata": {},
   "outputs": [],
   "source": [
    "series_b=pd.Series([10,12,13,14,15],index=[1,2,3,4,5])\n"
   ]
  },
  {
   "cell_type": "code",
   "execution_count": 10,
   "id": "d5fe235a",
   "metadata": {},
   "outputs": [
    {
     "data": {
      "text/plain": [
       "1    10\n",
       "2    12\n",
       "3    13\n",
       "4    14\n",
       "5    15\n",
       "dtype: int64"
      ]
     },
     "execution_count": 10,
     "metadata": {},
     "output_type": "execute_result"
    }
   ],
   "source": [
    "series_b"
   ]
  },
  {
   "cell_type": "code",
   "execution_count": 12,
   "id": "4fc8fc03",
   "metadata": {},
   "outputs": [
    {
     "data": {
      "text/plain": [
       "14"
      ]
     },
     "execution_count": 12,
     "metadata": {},
     "output_type": "execute_result"
    }
   ],
   "source": [
    "series_b[4]"
   ]
  },
  {
   "cell_type": "code",
   "execution_count": 13,
   "id": "ff5d4682",
   "metadata": {},
   "outputs": [
    {
     "data": {
      "text/plain": [
       "10"
      ]
     },
     "execution_count": 13,
     "metadata": {},
     "output_type": "execute_result"
    }
   ],
   "source": [
    "series_b[1]"
   ]
  },
  {
   "cell_type": "code",
   "execution_count": 14,
   "id": "1e9b2333",
   "metadata": {},
   "outputs": [
    {
     "data": {
      "text/plain": [
       "13"
      ]
     },
     "execution_count": 14,
     "metadata": {},
     "output_type": "execute_result"
    }
   ],
   "source": [
    "series_b[3]"
   ]
  },
  {
   "cell_type": "code",
   "execution_count": 15,
   "id": "97c9ea52",
   "metadata": {},
   "outputs": [],
   "source": [
    "series_c=pd.Series([10,12,13,14,15],index=['1','2','3','4','5'])"
   ]
  },
  {
   "cell_type": "code",
   "execution_count": 16,
   "id": "bfb52c97",
   "metadata": {},
   "outputs": [
    {
     "data": {
      "text/plain": [
       "1    10\n",
       "2    12\n",
       "3    13\n",
       "4    14\n",
       "5    15\n",
       "dtype: int64"
      ]
     },
     "execution_count": 16,
     "metadata": {},
     "output_type": "execute_result"
    }
   ],
   "source": [
    "series_c"
   ]
  },
  {
   "cell_type": "code",
   "execution_count": 17,
   "id": "6109b1be",
   "metadata": {},
   "outputs": [
    {
     "data": {
      "text/plain": [
       "10"
      ]
     },
     "execution_count": 17,
     "metadata": {},
     "output_type": "execute_result"
    }
   ],
   "source": [
    "series_c[0]"
   ]
  },
  {
   "cell_type": "code",
   "execution_count": 18,
   "id": "adf375fd",
   "metadata": {},
   "outputs": [
    {
     "data": {
      "text/plain": [
       "12"
      ]
     },
     "execution_count": 18,
     "metadata": {},
     "output_type": "execute_result"
    }
   ],
   "source": [
    "series_c[1]"
   ]
  },
  {
   "cell_type": "code",
   "execution_count": 19,
   "id": "0a4baa5b",
   "metadata": {},
   "outputs": [
    {
     "data": {
      "text/plain": [
       "10"
      ]
     },
     "execution_count": 19,
     "metadata": {},
     "output_type": "execute_result"
    }
   ],
   "source": [
    "series_c['1']"
   ]
  },
  {
   "cell_type": "code",
   "execution_count": 20,
   "id": "664c5d86",
   "metadata": {},
   "outputs": [
    {
     "data": {
      "text/plain": [
       "product A     1000\n",
       "product B     2000\n",
       "product C     3000\n",
       "dtype: int64"
      ]
     },
     "execution_count": 20,
     "metadata": {},
     "output_type": "execute_result"
    }
   ],
   "source": [
    "price_per_category"
   ]
  },
  {
   "cell_type": "code",
   "execution_count": 21,
   "id": "44ce1a45",
   "metadata": {},
   "outputs": [
    {
     "data": {
      "text/plain": [
       "6000"
      ]
     },
     "execution_count": 21,
     "metadata": {},
     "output_type": "execute_result"
    }
   ],
   "source": [
    "price_per_category.sum()"
   ]
  },
  {
   "cell_type": "code",
   "execution_count": 22,
   "id": "f23b5a69",
   "metadata": {},
   "outputs": [
    {
     "data": {
      "text/plain": [
       "1000"
      ]
     },
     "execution_count": 22,
     "metadata": {},
     "output_type": "execute_result"
    }
   ],
   "source": [
    "price_per_category.min()"
   ]
  },
  {
   "cell_type": "code",
   "execution_count": 23,
   "id": "f3206983",
   "metadata": {},
   "outputs": [
    {
     "data": {
      "text/plain": [
       "3000"
      ]
     },
     "execution_count": 23,
     "metadata": {},
     "output_type": "execute_result"
    }
   ],
   "source": [
    "price_per_category.max()"
   ]
  },
  {
   "cell_type": "code",
   "execution_count": 24,
   "id": "7aa2029f",
   "metadata": {},
   "outputs": [
    {
     "data": {
      "text/plain": [
       "'product A'"
      ]
     },
     "execution_count": 24,
     "metadata": {},
     "output_type": "execute_result"
    }
   ],
   "source": [
    "price_per_category.idxmin()"
   ]
  },
  {
   "cell_type": "code",
   "execution_count": 25,
   "id": "ac4b9241",
   "metadata": {},
   "outputs": [
    {
     "data": {
      "text/plain": [
       "'product C '"
      ]
     },
     "execution_count": 25,
     "metadata": {},
     "output_type": "execute_result"
    }
   ],
   "source": [
    "price_per_category.idxmax()"
   ]
  }
 ],
 "metadata": {
  "kernelspec": {
   "display_name": "Python 3 (ipykernel)",
   "language": "python",
   "name": "python3"
  },
  "language_info": {
   "codemirror_mode": {
    "name": "ipython",
    "version": 3
   },
   "file_extension": ".py",
   "mimetype": "text/x-python",
   "name": "python",
   "nbconvert_exporter": "python",
   "pygments_lexer": "ipython3",
   "version": "3.8.8"
  }
 },
 "nbformat": 4,
 "nbformat_minor": 5
}
